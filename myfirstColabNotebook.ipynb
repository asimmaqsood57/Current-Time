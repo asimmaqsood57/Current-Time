{
  "nbformat": 4,
  "nbformat_minor": 0,
  "metadata": {
    "colab": {
      "name": "myfirstColabNotebook.ipynb",
      "provenance": [],
      "authorship_tag": "ABX9TyOhHmjN1oLw14/iR9iGbaYH",
      "include_colab_link": true
    },
    "kernelspec": {
      "name": "python3",
      "display_name": "Python 3"
    },
    "language_info": {
      "name": "python"
    }
  },
  "cells": [
    {
      "cell_type": "markdown",
      "metadata": {
        "id": "view-in-github",
        "colab_type": "text"
      },
      "source": [
        "<a href=\"https://colab.research.google.com/github/asimmaqsood57/Current-Time/blob/master/myfirstColabNotebook.ipynb\" target=\"_parent\"><img src=\"https://colab.research.google.com/assets/colab-badge.svg\" alt=\"Open In Colab\"/></a>"
      ]
    },
    {
      "cell_type": "code",
      "metadata": {
        "id": "zxo-8VsG0RHv"
      },
      "source": [
        "import time\n",
        "print(time.ctime())\n"
      ],
      "execution_count": null,
      "outputs": []
    },
    {
      "cell_type": "code",
      "metadata": {
        "id": "gh3We6QG1yA2"
      },
      "source": [
        "# time.sleep(5)\n",
        "print(time.ctime())\n",
        "\n"
      ],
      "execution_count": null,
      "outputs": []
    },
    {
      "cell_type": "markdown",
      "metadata": {
        "id": "G-CtUcRt5Yql"
      },
      "source": [
        "This is **bold**\n",
        "This is *italic*\n",
        "This is ~strikeThrough~\n",
        "\n",
        "\n",
        "$\\sqrt{3x-1}+(1+x)^2$\n"
      ]
    }
  ]
}